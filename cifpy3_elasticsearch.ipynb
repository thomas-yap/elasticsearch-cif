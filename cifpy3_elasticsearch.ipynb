{
 "cells": [
  {
   "cell_type": "markdown",
   "metadata": {},
   "source": [
    "# Initialize Python Elasticsearch environment"
   ]
  },
  {
   "cell_type": "code",
   "execution_count": 1,
   "metadata": {
    "collapsed": true
   },
   "outputs": [],
   "source": [
    "from elasticsearch import Elasticsearch\n",
    "from pprint import pprint\n",
    "import json"
   ]
  },
  {
   "cell_type": "markdown",
   "metadata": {},
   "source": [
    "Connecting to 172.28.5.174 **cifpy** elasticsearch instance."
   ]
  },
  {
   "cell_type": "code",
   "execution_count": 2,
   "metadata": {
    "collapsed": false
   },
   "outputs": [],
   "source": [
    "host = '172.28.5.174:9200'\n",
    "es = Elasticsearch(host)"
   ]
  },
  {
   "cell_type": "markdown",
   "metadata": {},
   "source": [
    "Open one of the elasticsearch indices."
   ]
  },
  {
   "cell_type": "code",
   "execution_count": 10,
   "metadata": {
    "collapsed": false
   },
   "outputs": [
    {
     "data": {
      "text/plain": [
       "{u'acknowledged': True}"
      ]
     },
     "execution_count": 10,
     "metadata": {},
     "output_type": "execute_result"
    }
   ],
   "source": [
    "index_name = 'cif.observables-2015.12.10'\n",
    "type_name = 'observables'\n",
    "es.indices.open(index_name)"
   ]
  },
  {
   "cell_type": "markdown",
   "metadata": {
    "collapsed": true
   },
   "source": [
    "Get data scheme of **'observables'**."
   ]
  },
  {
   "cell_type": "code",
   "execution_count": 11,
   "metadata": {
    "collapsed": false
   },
   "outputs": [
    {
     "data": {
      "text/plain": [
       "{u'cif.observables-2015.12.10': {u'mappings': {u'observables': {u'properties': {u'@timestamp': {u'format': u'strict_date_optional_time||epoch_millis',\n",
       "      u'type': u'date'},\n",
       "     u'@version': {u'index': u'not_analyzed', u'type': u'string'},\n",
       "     u'alt_tlp': {u'type': u'string'},\n",
       "     u'altid': {u'type': u'string'},\n",
       "     u'altid_tlp': {u'type': u'string'},\n",
       "     u'application': {u'type': u'string'},\n",
       "     u'asn': {u'type': u'long'},\n",
       "     u'asn_desc': {u'type': u'string'},\n",
       "     u'cc': {u'type': u'string'},\n",
       "     u'citycode': {u'type': u'string'},\n",
       "     u'confidence': {u'store': True, u'type': u'float'},\n",
       "     u'description': {u'type': u'string'},\n",
       "     u'firsttime': {u'format': u'strict_date_optional_time||epoch_millis',\n",
       "      u'type': u'date'},\n",
       "     u'geolocation': {u'type': u'geo_point'},\n",
       "     u'group': {u'index': u'not_analyzed', u'type': u'string'},\n",
       "     u'id': {u'type': u'string'},\n",
       "     u'lasttime': {u'format': u'strict_date_optional_time||epoch_millis',\n",
       "      u'type': u'date'},\n",
       "     u'latitude': {u'type': u'double'},\n",
       "     u'longitude': {u'type': u'double'},\n",
       "     u'metrocode': {u'type': u'string'},\n",
       "     u'observable': {u'index': u'not_analyzed', u'type': u'string'},\n",
       "     u'otype': {u'type': u'string'},\n",
       "     u'peers': {u'properties': {u'asn': {u'type': u'string'},\n",
       "       u'asn_description': {u'type': u'string'},\n",
       "       u'cc': {u'type': u'string'},\n",
       "       u'date': {u'format': u'strict_date_optional_time||epoch_millis',\n",
       "        u'type': u'date'},\n",
       "       u'prefix': {u'type': u'string'},\n",
       "       u'rir': {u'type': u'string'}}},\n",
       "     u'portlist': {u'type': u'integer'},\n",
       "     u'prefix': {u'type': u'string'},\n",
       "     u'protocol': {u'type': u'long'},\n",
       "     u'provider': {u'index': u'not_analyzed', u'type': u'string'},\n",
       "     u'rank': {u'type': u'string'},\n",
       "     u'rdata': {u'index': u'not_analyzed', u'type': u'string'},\n",
       "     u'related': {u'type': u'string'},\n",
       "     u'reportime': {u'format': u'strict_date_optional_time||epoch_millis',\n",
       "      u'type': u'date'},\n",
       "     u'reporttime': {u'format': u'strict_date_optional_time||epoch_millis',\n",
       "      u'type': u'date'},\n",
       "     u'rir': {u'type': u'string'},\n",
       "     u'rtype': {u'type': u'string'},\n",
       "     u'tags': {u'type': u'string'},\n",
       "     u'timestamp': {u'format': u'strict_date_optional_time||epoch_millis',\n",
       "      u'type': u'date'},\n",
       "     u'timezone': {u'type': u'string'},\n",
       "     u'tlp': {u'type': u'string'}}}}}}"
      ]
     },
     "execution_count": 11,
     "metadata": {},
     "output_type": "execute_result"
    }
   ],
   "source": [
    "mappings = es.indices.get_mapping(index_name, type_name)\n",
    "mappings"
   ]
  },
  {
   "cell_type": "markdown",
   "metadata": {},
   "source": [
    "## List all indices from elasticsearch host"
   ]
  },
  {
   "cell_type": "code",
   "execution_count": 7,
   "metadata": {
    "collapsed": false
   },
   "outputs": [
    {
     "name": "stdout",
     "output_type": "stream",
     "text": [
      "{\r\n",
      "  \"cif.observables-2015.11.20\" : {\r\n",
      "    \"aliases\" : { }\r\n",
      "  },\r\n",
      "  \"cif.observables-2015.12.10\" : {\r\n",
      "    \"aliases\" : { }\r\n",
      "  },\r\n",
      "  \"cif.observables-2015.11.13\" : {\r\n",
      "    \"aliases\" : { }\r\n",
      "  },\r\n",
      "  \".kibana\" : {\r\n",
      "    \"aliases\" : { }\r\n",
      "  },\r\n",
      "  \"cif.observables-2015.11.14\" : {\r\n",
      "    \"aliases\" : { }\r\n",
      "  },\r\n",
      "  \"cif.observables-2015.11.15\" : {\r\n",
      "    \"aliases\" : { }\r\n",
      "  },\r\n",
      "  \"cif.observables-2015.11.16\" : {\r\n",
      "    \"aliases\" : { }\r\n",
      "  },\r\n",
      "  \"cif.observables-2015.11.17\" : {\r\n",
      "    \"aliases\" : { }\r\n",
      "  },\r\n",
      "  \"cif.tokens\" : {\r\n",
      "    \"aliases\" : { }\r\n",
      "  },\r\n",
      "  \"cif.observables-2015.11.18\" : {\r\n",
      "    \"aliases\" : { }\r\n",
      "  },\r\n",
      "  \"cif.observables-2015.11.19\" : {\r\n",
      "    \"aliases\" : { }\r\n",
      "  }\r\n",
      "}\r\n"
     ]
    }
   ],
   "source": [
    "!curl http://172.28.5.174:9200/_aliases?pretty=1\n"
   ]
  },
  {
   "cell_type": "markdown",
   "metadata": {},
   "source": [
    "## Count number of documents for a specific index"
   ]
  },
  {
   "cell_type": "code",
   "execution_count": 12,
   "metadata": {
    "collapsed": false
   },
   "outputs": [
    {
     "data": {
      "text/plain": [
       "{u'_shards': {u'failed': 0, u'successful': 5, u'total': 5}, u'count': 389338}"
      ]
     },
     "execution_count": 12,
     "metadata": {},
     "output_type": "execute_result"
    }
   ],
   "source": [
    "es.count(index=index_name)"
   ]
  },
  {
   "cell_type": "markdown",
   "metadata": {},
   "source": [
    "## Build JSON query string and Perform query"
   ]
  },
  {
   "cell_type": "code",
   "execution_count": 13,
   "metadata": {
    "collapsed": false
   },
   "outputs": [
    {
     "data": {
      "text/plain": [
       "'{\"query\": {\"match_all\": {}}}'"
      ]
     },
     "execution_count": 13,
     "metadata": {},
     "output_type": "execute_result"
    }
   ],
   "source": [
    "q = {'query': {'match_all':{}}}\n",
    "json.dumps(q)"
   ]
  },
  {
   "cell_type": "code",
   "execution_count": 14,
   "metadata": {
    "collapsed": false
   },
   "outputs": [
    {
     "name": "stdout",
     "output_type": "stream",
     "text": [
      "{u'_shards': {u'failed': 0, u'successful': 5, u'total': 5},\n",
      " u'hits': {u'hits': [{u'_id': u'7fc138e52e037edd02e9af94e96e9cac2615e866c28ec40de4e8cc248b6ba6f1',\n",
      "                      u'_index': u'cif.observables-2015.12.10',\n",
      "                      u'_score': 1.0,\n",
      "                      u'_source': {u'@timestamp': u'2015-12-10T01:01:01Z',\n",
      "                                   u'adata': None,\n",
      "                                   u'altid': u'http://www.alexa.com/siteinfo/ebay.co.uk',\n",
      "                                   u'altid_tlp': u'white',\n",
      "                                   u'application': None,\n",
      "                                   u'asn': 11643,\n",
      "                                   u'asn_desc': u'EBAY - eBay, Inc,US',\n",
      "                                   u'cc': u'US',\n",
      "                                   u'citycode': u'CAMPBELL, CA',\n",
      "                                   u'confidence': 52.105,\n",
      "                                   u'description': None,\n",
      "                                   u'firsttime': None,\n",
      "                                   u'geolocation': u'37.28030000000001, -121.9567',\n",
      "                                   u'group': [u'everyone'],\n",
      "                                   u'id': u'7fc138e52e037edd02e9af94e96e9cac2615e866c28ec40de4e8cc248b6ba6f1',\n",
      "                                   u'lang': None,\n",
      "                                   u'lasttime': u'2015-12-10T01:01:01Z',\n",
      "                                   u'latitude': 37.28030000000001,\n",
      "                                   u'longitude': -121.9567,\n",
      "                                   u'mask': None,\n",
      "                                   u'metrocode': u'San Francisco, CA',\n",
      "                                   u'observable': u'66.211.185.77',\n",
      "                                   u'orientation': None,\n",
      "                                   u'otype': u'ipv4',\n",
      "                                   u'peers': [{u'asn': u'209',\n",
      "                                               u'asn_description': u'CENTURYLINK-US-LEGACY-QWEST - Qwest Communications Company, LLC,US',\n",
      "                                               u'cc': u'US',\n",
      "                                               u'date': u'2006-01-25',\n",
      "                                               u'prefix': u'66.211.176.0/20',\n",
      "                                               u'rir': u'arin'}],\n",
      "                                   u'portlist': None,\n",
      "                                   u'prefix': u'66.211.176.0/20',\n",
      "                                   u'protocol': 6,\n",
      "                                   u'provider': u'alexa.com',\n",
      "                                   u'rdata': u'ebay.co.uk',\n",
      "                                   u'related': u'51b90d361c4a9133380332877ecfa7be69efd27db8c243ca6117a435d0dcf4d7',\n",
      "                                   u'reporttime': u'2015-12-10T01:01:01Z',\n",
      "                                   u'rir': u'arin',\n",
      "                                   u'rtype': u'A',\n",
      "                                   u'subdivision': None,\n",
      "                                   u'tags': [u'whitelist', u'rdata'],\n",
      "                                   u'timestamp': u'2015-12-10T01:01:01Z',\n",
      "                                   u'timezone': u'America/Los_Angeles',\n",
      "                                   u'tlp': u'green'},\n",
      "                      u'_type': u'observables'},\n",
      "                     {u'_id': u'41af75e3f8caf5b0b67de0b24806f5513f64fcc5be0925157b1adf5695bf75f8',\n",
      "                      u'_index': u'cif.observables-2015.12.10',\n",
      "                      u'_score': 1.0,\n",
      "                      u'_source': {u'@timestamp': u'2015-12-10T01:01:02Z',\n",
      "                                   u'adata': None,\n",
      "                                   u'altid': u'http://www.alexa.com/siteinfo/stanford.edu',\n",
      "                                   u'altid_tlp': u'white',\n",
      "                                   u'application': u'dns',\n",
      "                                   u'cc': None,\n",
      "                                   u'confidence': 20.023,\n",
      "                                   u'description': None,\n",
      "                                   u'firsttime': None,\n",
      "                                   u'group': [u'everyone'],\n",
      "                                   u'id': u'41af75e3f8caf5b0b67de0b24806f5513f64fcc5be0925157b1adf5695bf75f8',\n",
      "                                   u'lang': None,\n",
      "                                   u'lasttime': u'2015-12-10T01:01:02Z',\n",
      "                                   u'observable': u'avallone.stanford.edu',\n",
      "                                   u'otype': u'fqdn',\n",
      "                                   u'portlist': None,\n",
      "                                   u'protocol': 6,\n",
      "                                   u'provider': u'alexa.com',\n",
      "                                   u'rdata': u'stanford.edu',\n",
      "                                   u'related': u'5a29135fae9c376618360b9e4aade52cee1da6b96427b11b2568936bc3a5c22e',\n",
      "                                   u'reporttime': u'2015-12-10T01:01:02Z',\n",
      "                                   u'rtype': u'NS',\n",
      "                                   u'tags': [u'whitelist', u'rdata'],\n",
      "                                   u'timestamp': u'2015-12-10T01:01:02Z',\n",
      "                                   u'tlp': u'green'},\n",
      "                      u'_type': u'observables'},\n",
      "                     {u'_id': u'c6f939328e411c05ee55bc2ef64bee7e5ae11feccc125243f2c5e3f399d36fd4',\n",
      "                      u'_index': u'cif.observables-2015.12.10',\n",
      "                      u'_score': 1.0,\n",
      "                      u'_source': {u'@timestamp': u'2015-12-10T01:01:02Z',\n",
      "                                   u'adata': None,\n",
      "                                   u'altid': u'http://www.alexa.com/siteinfo/stanford.edu',\n",
      "                                   u'altid_tlp': u'white',\n",
      "                                   u'application': u'dns',\n",
      "                                   u'cc': None,\n",
      "                                   u'confidence': 20.023,\n",
      "                                   u'description': None,\n",
      "                                   u'firsttime': None,\n",
      "                                   u'group': [u'everyone'],\n",
      "                                   u'id': u'c6f939328e411c05ee55bc2ef64bee7e5ae11feccc125243f2c5e3f399d36fd4',\n",
      "                                   u'lang': None,\n",
      "                                   u'lasttime': u'2015-12-10T01:01:02Z',\n",
      "                                   u'observable': u'argus.stanford.edu',\n",
      "                                   u'otype': u'fqdn',\n",
      "                                   u'portlist': None,\n",
      "                                   u'protocol': 6,\n",
      "                                   u'provider': u'alexa.com',\n",
      "                                   u'rdata': u'stanford.edu',\n",
      "                                   u'related': u'5a29135fae9c376618360b9e4aade52cee1da6b96427b11b2568936bc3a5c22e',\n",
      "                                   u'reporttime': u'2015-12-10T01:01:02Z',\n",
      "                                   u'rtype': u'NS',\n",
      "                                   u'tags': [u'whitelist', u'rdata'],\n",
      "                                   u'timestamp': u'2015-12-10T01:01:02Z',\n",
      "                                   u'tlp': u'green'},\n",
      "                      u'_type': u'observables'},\n",
      "                     {u'_id': u'87193cb6ba0e6613920e0b30f11800be7d381afddb6a84a27ab712abde69cedf',\n",
      "                      u'_index': u'cif.observables-2015.12.10',\n",
      "                      u'_score': 1.0,\n",
      "                      u'_source': {u'@timestamp': u'2015-12-10T01:01:01Z',\n",
      "                                   u'adata': None,\n",
      "                                   u'altid': u'http://www.alexa.com/siteinfo/ebay.co.uk',\n",
      "                                   u'altid_tlp': u'white',\n",
      "                                   u'application': u'dns',\n",
      "                                   u'cc': None,\n",
      "                                   u'confidence': 20.023,\n",
      "                                   u'description': None,\n",
      "                                   u'firsttime': None,\n",
      "                                   u'group': [u'everyone'],\n",
      "                                   u'id': u'87193cb6ba0e6613920e0b30f11800be7d381afddb6a84a27ab712abde69cedf',\n",
      "                                   u'lang': None,\n",
      "                                   u'lasttime': u'2015-12-10T01:01:01Z',\n",
      "                                   u'observable': u'ns3.p47.dynect.net',\n",
      "                                   u'otype': u'fqdn',\n",
      "                                   u'portlist': None,\n",
      "                                   u'protocol': 6,\n",
      "                                   u'provider': u'alexa.com',\n",
      "                                   u'rdata': u'ebay.co.uk',\n",
      "                                   u'related': u'51b90d361c4a9133380332877ecfa7be69efd27db8c243ca6117a435d0dcf4d7',\n",
      "                                   u'reporttime': u'2015-12-10T01:01:01Z',\n",
      "                                   u'rtype': u'NS',\n",
      "                                   u'tags': [u'whitelist', u'rdata'],\n",
      "                                   u'timestamp': u'2015-12-10T01:01:01Z',\n",
      "                                   u'tlp': u'green'},\n",
      "                      u'_type': u'observables'},\n",
      "                     {u'_id': u'2bd7bad7060bab00fb152e87771d30fa9931c9710ae7fa2dcf6f8cc8452420e0',\n",
      "                      u'_index': u'cif.observables-2015.12.10',\n",
      "                      u'_score': 1.0,\n",
      "                      u'_source': {u'@timestamp': u'2015-12-10T01:01:01Z',\n",
      "                                   u'adata': None,\n",
      "                                   u'altid': u'http://www.alexa.com/siteinfo/imobile.com.cn',\n",
      "                                   u'altid_tlp': u'white',\n",
      "                                   u'application': [u'http', u'https'],\n",
      "                                   u'cc': None,\n",
      "                                   u'confidence': 25,\n",
      "                                   u'description': u'alexa #1097',\n",
      "                                   u'firsttime': None,\n",
      "                                   u'group': [u'everyone'],\n",
      "                                   u'id': u'2bd7bad7060bab00fb152e87771d30fa9931c9710ae7fa2dcf6f8cc8452420e0',\n",
      "                                   u'lang': None,\n",
      "                                   u'lasttime': None,\n",
      "                                   u'observable': u'imobile.com.cn',\n",
      "                                   u'otype': u'fqdn',\n",
      "                                   u'portlist': None,\n",
      "                                   u'protocol': 6,\n",
      "                                   u'provider': u'alexa.com',\n",
      "                                   u'rank': u'1097',\n",
      "                                   u'rdata': None,\n",
      "                                   u'reporttime': None,\n",
      "                                   u'rtype': None,\n",
      "                                   u'tags': [u'whitelist'],\n",
      "                                   u'timestamp': u'2015-12-10T01:01:01Z',\n",
      "                                   u'tlp': u'green'},\n",
      "                      u'_type': u'observables'},\n",
      "                     {u'_id': u'ec7f97a3553c0a95052f3ead151e54e97cf8b01bdd83d4f11c36b808caf4ae5b',\n",
      "                      u'_index': u'cif.observables-2015.12.10',\n",
      "                      u'_score': 1.0,\n",
      "                      u'_source': {u'@timestamp': u'2015-12-10T01:01:03Z',\n",
      "                                   u'adata': None,\n",
      "                                   u'altid': u'http://www.alexa.com/siteinfo/imobile.com.cn',\n",
      "                                   u'altid_tlp': u'white',\n",
      "                                   u'application': None,\n",
      "                                   u'asn': 23724,\n",
      "                                   u'asn_desc': u'CHINANET-IDC-BJ-AP IDC, China Telecommunications Corporation,CN',\n",
      "                                   u'cc': u'CN',\n",
      "                                   u'citycode': u'BEIJING, 22',\n",
      "                                   u'confidence': 12.949,\n",
      "                                   u'description': None,\n",
      "                                   u'firsttime': None,\n",
      "                                   u'geolocation': u'39.9289, 116.38830000000002',\n",
      "                                   u'group': [u'everyone'],\n",
      "                                   u'id': u'ec7f97a3553c0a95052f3ead151e54e97cf8b01bdd83d4f11c36b808caf4ae5b',\n",
      "                                   u'lang': None,\n",
      "                                   u'lasttime': u'2015-12-10T01:01:03Z',\n",
      "                                   u'latitude': 39.9289,\n",
      "                                   u'longitude': 116.38830000000002,\n",
      "                                   u'mask': None,\n",
      "                                   u'metrocode': None,\n",
      "                                   u'observable': u'113.31.31.138',\n",
      "                                   u'orientation': None,\n",
      "                                   u'otype': u'ipv4',\n",
      "                                   u'peers': [{u'asn': u'4134',\n",
      "                                               u'asn_description': u'CHINANET-BACKBONE No.31,Jin-rong Street,CN',\n",
      "                                               u'cc': u'CN',\n",
      "                                               u'date': u'2008-10-17',\n",
      "                                               u'prefix': u'113.31.16.0/20',\n",
      "                                               u'rir': u'apnic'}],\n",
      "                                   u'portlist': None,\n",
      "                                   u'prefix': u'113.31.16.0/20',\n",
      "                                   u'protocol': 6,\n",
      "                                   u'provider': u'alexa.com',\n",
      "                                   u'rdata': u'imobile.com.cn',\n",
      "                                   u'related': u'2bd7bad7060bab00fb152e87771d30fa9931c9710ae7fa2dcf6f8cc8452420e0',\n",
      "                                   u'reporttime': u'2015-12-10T01:01:03Z',\n",
      "                                   u'rir': u'apnic',\n",
      "                                   u'rtype': u'A',\n",
      "                                   u'subdivision': None,\n",
      "                                   u'tags': [u'whitelist', u'rdata'],\n",
      "                                   u'timestamp': u'2015-12-10T01:01:03Z',\n",
      "                                   u'timezone': u'Asia/Harbin',\n",
      "                                   u'tlp': u'green'},\n",
      "                      u'_type': u'observables'},\n",
      "                     {u'_id': u'482ec8748bf174623b0447a60e8e815a9bd458f37e2a43c40a6969af950c49d8',\n",
      "                      u'_index': u'cif.observables-2015.12.10',\n",
      "                      u'_score': 1.0,\n",
      "                      u'_source': {u'@timestamp': u'2015-12-10T01:01:00Z',\n",
      "                                   u'adata': None,\n",
      "                                   u'altid': u'http://www.alexa.com/siteinfo/linkedin.com',\n",
      "                                   u'altid_tlp': u'white',\n",
      "                                   u'application': [u'http', u'https'],\n",
      "                                   u'cc': None,\n",
      "                                   u'confidence': 75,\n",
      "                                   u'description': u'alexa #14',\n",
      "                                   u'firsttime': None,\n",
      "                                   u'group': [u'everyone'],\n",
      "                                   u'id': u'482ec8748bf174623b0447a60e8e815a9bd458f37e2a43c40a6969af950c49d8',\n",
      "                                   u'lang': None,\n",
      "                                   u'lasttime': None,\n",
      "                                   u'observable': u'linkedin.com',\n",
      "                                   u'otype': u'fqdn',\n",
      "                                   u'portlist': None,\n",
      "                                   u'protocol': 6,\n",
      "                                   u'provider': u'alexa.com',\n",
      "                                   u'rank': u'14',\n",
      "                                   u'rdata': None,\n",
      "                                   u'reporttime': None,\n",
      "                                   u'rtype': None,\n",
      "                                   u'tags': [u'whitelist'],\n",
      "                                   u'timestamp': u'2015-12-10T01:01:00Z',\n",
      "                                   u'tlp': u'green'},\n",
      "                      u'_type': u'observables'},\n",
      "                     {u'_id': u'7384ccee4b23369a9ad6d703d287d7465ef98f850e5f5aaca611320d18c18e3d',\n",
      "                      u'_index': u'cif.observables-2015.12.10',\n",
      "                      u'_score': 1.0,\n",
      "                      u'_source': {u'@timestamp': u'2015-12-10T01:01:01Z',\n",
      "                                   u'adata': None,\n",
      "                                   u'altid': u'http://www.alexa.com/siteinfo/linkedin.com',\n",
      "                                   u'altid_tlp': u'white',\n",
      "                                   u'application': u'dns',\n",
      "                                   u'cc': None,\n",
      "                                   u'confidence': 20.023,\n",
      "                                   u'description': None,\n",
      "                                   u'firsttime': None,\n",
      "                                   u'group': [u'everyone'],\n",
      "                                   u'id': u'7384ccee4b23369a9ad6d703d287d7465ef98f850e5f5aaca611320d18c18e3d',\n",
      "                                   u'lang': None,\n",
      "                                   u'lasttime': u'2015-12-10T01:01:01Z',\n",
      "                                   u'observable': u'ns2.p43.dynect.net',\n",
      "                                   u'otype': u'fqdn',\n",
      "                                   u'portlist': None,\n",
      "                                   u'protocol': 6,\n",
      "                                   u'provider': u'alexa.com',\n",
      "                                   u'rdata': u'linkedin.com',\n",
      "                                   u'related': u'482ec8748bf174623b0447a60e8e815a9bd458f37e2a43c40a6969af950c49d8',\n",
      "                                   u'reporttime': u'2015-12-10T01:01:01Z',\n",
      "                                   u'rtype': u'NS',\n",
      "                                   u'tags': [u'whitelist', u'rdata'],\n",
      "                                   u'timestamp': u'2015-12-10T01:01:01Z',\n",
      "                                   u'tlp': u'green'},\n",
      "                      u'_type': u'observables'},\n",
      "                     {u'_id': u'16f3b5c45b4fc5dad5d92976588d82ab08ef35d14d75b5125c8f509585eabec8',\n",
      "                      u'_index': u'cif.observables-2015.12.10',\n",
      "                      u'_score': 1.0,\n",
      "                      u'_source': {u'@timestamp': u'2015-12-10T01:01:01Z',\n",
      "                                   u'adata': None,\n",
      "                                   u'altid': u'http://www.alexa.com/siteinfo/linkedin.com',\n",
      "                                   u'altid_tlp': u'white',\n",
      "                                   u'application': u'dns',\n",
      "                                   u'cc': None,\n",
      "                                   u'confidence': 20.023,\n",
      "                                   u'description': None,\n",
      "                                   u'firsttime': None,\n",
      "                                   u'group': [u'everyone'],\n",
      "                                   u'id': u'16f3b5c45b4fc5dad5d92976588d82ab08ef35d14d75b5125c8f509585eabec8',\n",
      "                                   u'lang': None,\n",
      "                                   u'lasttime': u'2015-12-10T01:01:01Z',\n",
      "                                   u'observable': u'ns2.linkedin.com',\n",
      "                                   u'otype': u'fqdn',\n",
      "                                   u'portlist': None,\n",
      "                                   u'protocol': 6,\n",
      "                                   u'provider': u'alexa.com',\n",
      "                                   u'rdata': u'linkedin.com',\n",
      "                                   u'related': u'482ec8748bf174623b0447a60e8e815a9bd458f37e2a43c40a6969af950c49d8',\n",
      "                                   u'reporttime': u'2015-12-10T01:01:01Z',\n",
      "                                   u'rtype': u'NS',\n",
      "                                   u'tags': [u'whitelist', u'rdata'],\n",
      "                                   u'timestamp': u'2015-12-10T01:01:01Z',\n",
      "                                   u'tlp': u'green'},\n",
      "                      u'_type': u'observables'},\n",
      "                     {u'_id': u'eed6b2457628f24d95aa1b20ff2546497ffc41ba692c4a204090fb323a1ea1a5',\n",
      "                      u'_index': u'cif.observables-2015.12.10',\n",
      "                      u'_score': 1.0,\n",
      "                      u'_source': {u'@timestamp': u'2015-12-10T01:01:01Z',\n",
      "                                   u'adata': None,\n",
      "                                   u'altid': u'http://www.alexa.com/siteinfo/linkedin.com',\n",
      "                                   u'altid_tlp': u'white',\n",
      "                                   u'application': u'dns',\n",
      "                                   u'cc': None,\n",
      "                                   u'confidence': 20.023,\n",
      "                                   u'description': None,\n",
      "                                   u'firsttime': None,\n",
      "                                   u'group': [u'everyone'],\n",
      "                                   u'id': u'eed6b2457628f24d95aa1b20ff2546497ffc41ba692c4a204090fb323a1ea1a5',\n",
      "                                   u'lang': None,\n",
      "                                   u'lasttime': u'2015-12-10T01:01:01Z',\n",
      "                                   u'observable': u'ns1.p43.dynect.net',\n",
      "                                   u'otype': u'fqdn',\n",
      "                                   u'portlist': None,\n",
      "                                   u'protocol': 6,\n",
      "                                   u'provider': u'alexa.com',\n",
      "                                   u'rdata': u'linkedin.com',\n",
      "                                   u'related': u'482ec8748bf174623b0447a60e8e815a9bd458f37e2a43c40a6969af950c49d8',\n",
      "                                   u'reporttime': u'2015-12-10T01:01:01Z',\n",
      "                                   u'rtype': u'NS',\n",
      "                                   u'tags': [u'whitelist', u'rdata'],\n",
      "                                   u'timestamp': u'2015-12-10T01:01:01Z',\n",
      "                                   u'tlp': u'green'},\n",
      "                      u'_type': u'observables'}],\n",
      "           u'max_score': 1.0,\n",
      "           u'total': 389338},\n",
      " u'timed_out': False,\n",
      " u'took': 11}\n"
     ]
    }
   ],
   "source": [
    "results = es.search(index_name, type_name, json.dumps(q))\n",
    "pprint(results)"
   ]
  },
  {
   "cell_type": "code",
   "execution_count": null,
   "metadata": {
    "collapsed": true
   },
   "outputs": [],
   "source": []
  }
 ],
 "metadata": {
  "kernelspec": {
   "display_name": "Python 2",
   "language": "python",
   "name": "python2"
  },
  "language_info": {
   "codemirror_mode": {
    "name": "ipython",
    "version": 2
   },
   "file_extension": ".py",
   "mimetype": "text/x-python",
   "name": "python",
   "nbconvert_exporter": "python",
   "pygments_lexer": "ipython2",
   "version": "2.7.11"
  }
 },
 "nbformat": 4,
 "nbformat_minor": 0
}
