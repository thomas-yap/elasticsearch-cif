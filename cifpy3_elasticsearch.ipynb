{
 "cells": [
  {
   "cell_type": "markdown",
   "metadata": {},
   "source": [
    "# Initialize Python Elasticsearch environment"
   ]
  },
  {
   "cell_type": "markdown",
   "metadata": {},
   "source": [
    "Click here to look at CIF data definition. [https://github.com/jmdevince/cifpy3#object-reference](https://github.com/jmdevince/cifpy3#object-reference)"
   ]
  },
  {
   "cell_type": "code",
   "execution_count": 1,
   "metadata": {
    "collapsed": true
   },
   "outputs": [],
   "source": [
    "from elasticsearch import Elasticsearch\n",
    "from pprint import pprint\n",
    "from fnmatch import fnmatch\n",
    "import json"
   ]
  },
  {
   "cell_type": "markdown",
   "metadata": {},
   "source": [
    "Connecting to 172.28.5.174 **cifpy** elasticsearch instance."
   ]
  },
  {
   "cell_type": "code",
   "execution_count": 2,
   "metadata": {
    "collapsed": false
   },
   "outputs": [],
   "source": [
    "host = '172.28.5.174:9200'\n",
    "es = Elasticsearch(host)"
   ]
  },
  {
   "cell_type": "markdown",
   "metadata": {},
   "source": [
    "Open one of the elasticsearch indices."
   ]
  },
  {
   "cell_type": "code",
   "execution_count": 11,
   "metadata": {
    "collapsed": false
   },
   "outputs": [
    {
     "data": {
      "text/plain": [
       "{u'acknowledged': True}"
      ]
     },
     "execution_count": 11,
     "metadata": {},
     "output_type": "execute_result"
    }
   ],
   "source": [
    "index_name = 'cif.observables-2015.12.13'\n",
    "type_name = 'observables'\n",
    "es.indices.open(index_name)"
   ]
  },
  {
   "cell_type": "markdown",
   "metadata": {
    "collapsed": true
   },
   "source": [
    "Get data scheme of **'observables'**."
   ]
  },
  {
   "cell_type": "code",
   "execution_count": 4,
   "metadata": {
    "collapsed": false
   },
   "outputs": [
    {
     "data": {
      "text/plain": [
       "{u'cif.observables-2015.12.10': {u'mappings': {u'observables': {u'properties': {u'@timestamp': {u'format': u'strict_date_optional_time||epoch_millis',\n",
       "      u'type': u'date'},\n",
       "     u'@version': {u'index': u'not_analyzed', u'type': u'string'},\n",
       "     u'alt_tlp': {u'type': u'string'},\n",
       "     u'altid': {u'type': u'string'},\n",
       "     u'altid_tlp': {u'type': u'string'},\n",
       "     u'application': {u'type': u'string'},\n",
       "     u'asn': {u'type': u'long'},\n",
       "     u'asn_desc': {u'type': u'string'},\n",
       "     u'cc': {u'type': u'string'},\n",
       "     u'citycode': {u'type': u'string'},\n",
       "     u'confidence': {u'store': True, u'type': u'float'},\n",
       "     u'description': {u'type': u'string'},\n",
       "     u'firsttime': {u'format': u'strict_date_optional_time||epoch_millis',\n",
       "      u'type': u'date'},\n",
       "     u'geolocation': {u'type': u'geo_point'},\n",
       "     u'group': {u'index': u'not_analyzed', u'type': u'string'},\n",
       "     u'id': {u'type': u'string'},\n",
       "     u'lasttime': {u'format': u'strict_date_optional_time||epoch_millis',\n",
       "      u'type': u'date'},\n",
       "     u'latitude': {u'type': u'double'},\n",
       "     u'longitude': {u'type': u'double'},\n",
       "     u'metrocode': {u'type': u'string'},\n",
       "     u'observable': {u'index': u'not_analyzed', u'type': u'string'},\n",
       "     u'otype': {u'type': u'string'},\n",
       "     u'peers': {u'properties': {u'asn': {u'type': u'string'},\n",
       "       u'asn_description': {u'type': u'string'},\n",
       "       u'cc': {u'type': u'string'},\n",
       "       u'date': {u'format': u'strict_date_optional_time||epoch_millis',\n",
       "        u'type': u'date'},\n",
       "       u'prefix': {u'type': u'string'},\n",
       "       u'rir': {u'type': u'string'}}},\n",
       "     u'portlist': {u'type': u'integer'},\n",
       "     u'prefix': {u'type': u'string'},\n",
       "     u'protocol': {u'type': u'long'},\n",
       "     u'provider': {u'index': u'not_analyzed', u'type': u'string'},\n",
       "     u'rank': {u'type': u'string'},\n",
       "     u'rdata': {u'index': u'not_analyzed', u'type': u'string'},\n",
       "     u'related': {u'type': u'string'},\n",
       "     u'reportime': {u'format': u'strict_date_optional_time||epoch_millis',\n",
       "      u'type': u'date'},\n",
       "     u'reporttime': {u'format': u'strict_date_optional_time||epoch_millis',\n",
       "      u'type': u'date'},\n",
       "     u'rir': {u'type': u'string'},\n",
       "     u'rtype': {u'type': u'string'},\n",
       "     u'tags': {u'type': u'string'},\n",
       "     u'timestamp': {u'format': u'strict_date_optional_time||epoch_millis',\n",
       "      u'type': u'date'},\n",
       "     u'timezone': {u'type': u'string'},\n",
       "     u'tlp': {u'type': u'string'}}}}}}"
      ]
     },
     "execution_count": 4,
     "metadata": {},
     "output_type": "execute_result"
    }
   ],
   "source": [
    "mappings = es.indices.get_mapping(index_name, type_name)\n",
    "mappings"
   ]
  },
  {
   "cell_type": "markdown",
   "metadata": {},
   "source": [
    "## List all indices from elasticsearch host"
   ]
  },
  {
   "cell_type": "markdown",
   "metadata": {},
   "source": [
    "Get a list of index names filtered by shell wildcard."
   ]
  },
  {
   "cell_type": "code",
   "execution_count": 7,
   "metadata": {
    "collapsed": false
   },
   "outputs": [
    {
     "data": {
      "text/plain": [
       "[u'cif.observables-2015.11.13',\n",
       " u'cif.observables-2015.11.14',\n",
       " u'cif.observables-2015.11.15',\n",
       " u'cif.observables-2015.11.16',\n",
       " u'cif.observables-2015.11.17',\n",
       " u'cif.observables-2015.11.18',\n",
       " u'cif.observables-2015.11.19',\n",
       " u'cif.observables-2015.11.20',\n",
       " u'cif.observables-2015.12.10',\n",
       " u'cif.observables-2015.12.11',\n",
       " u'cif.observables-2015.12.12',\n",
       " u'cif.observables-2015.12.13',\n",
       " u'cif.observables-2015.12.14']"
      ]
     },
     "execution_count": 7,
     "metadata": {},
     "output_type": "execute_result"
    }
   ],
   "source": [
    "indices = es.indices.get_aliases().keys()\n",
    "indices = [name for name in indices if fnmatch(name,'cif.observables*')]\n",
    "indices.sort()\n",
    "indices"
   ]
  },
  {
   "cell_type": "markdown",
   "metadata": {},
   "source": [
    "## Return total number of documents indexed "
   ]
  },
  {
   "cell_type": "code",
   "execution_count": 8,
   "metadata": {
    "collapsed": false,
    "scrolled": true
   },
   "outputs": [
    {
     "data": {
      "text/plain": [
       "{u'_shards': {u'failed': 0, u'successful': 71, u'total': 71},\n",
       " u'count': 3271742}"
      ]
     },
     "execution_count": 8,
     "metadata": {},
     "output_type": "execute_result"
    }
   ],
   "source": [
    "es.count()"
   ]
  },
  {
   "cell_type": "markdown",
   "metadata": {},
   "source": [
    "## Build JSON query string and Perform query"
   ]
  },
  {
   "cell_type": "code",
   "execution_count": 9,
   "metadata": {
    "collapsed": false
   },
   "outputs": [
    {
     "data": {
      "text/plain": [
       "'{\"query\": {\"match_all\": {}}}'"
      ]
     },
     "execution_count": 9,
     "metadata": {},
     "output_type": "execute_result"
    }
   ],
   "source": [
    "q = {'query': {'match_all':{}}}\n",
    "json.dumps(q)"
   ]
  },
  {
   "cell_type": "code",
   "execution_count": 12,
   "metadata": {
    "collapsed": false
   },
   "outputs": [
    {
     "name": "stdout",
     "output_type": "stream",
     "text": [
      "{u'_shards': {u'failed': 0, u'successful': 5, u'total': 5},\n",
      " u'hits': {u'hits': [{u'_id': u'b1d59170fc50032d1af540d843e5273887fdf17ed6c8ca2d669c76573e5d401d',\n",
      "                      u'_index': u'cif.observables-2015.12.13',\n",
      "                      u'_score': 1.0,\n",
      "                      u'_source': {u'@timestamp': u'2015-12-13T00:12:01Z',\n",
      "                                   u'adata': None,\n",
      "                                   u'altid': u'http://www.alexa.com/siteinfo/mail.ru',\n",
      "                                   u'altid_tlp': u'white',\n",
      "                                   u'application': u'smtp',\n",
      "                                   u'cc': None,\n",
      "                                   u'confidence': 20.023,\n",
      "                                   u'description': None,\n",
      "                                   u'firsttime': None,\n",
      "                                   u'group': [u'everyone'],\n",
      "                                   u'id': u'b1d59170fc50032d1af540d843e5273887fdf17ed6c8ca2d669c76573e5d401d',\n",
      "                                   u'lang': None,\n",
      "                                   u'lasttime': u'2015-12-13T00:12:01Z',\n",
      "                                   u'observable': u'mxs.mail.ru',\n",
      "                                   u'otype': u'fqdn',\n",
      "                                   u'portlist': [60179],\n",
      "                                   u'protocol': 6,\n",
      "                                   u'provider': u'alexa.com',\n",
      "                                   u'rdata': u'mail.ru',\n",
      "                                   u'related': u'cddd096aed45b4fa0da6eff2741c61cbef05a8fdd30bb28f1337065167582757',\n",
      "                                   u'reporttime': u'2015-12-13T00:12:01Z',\n",
      "                                   u'rtype': u'MX',\n",
      "                                   u'tags': [u'rdata', u'whitelist'],\n",
      "                                   u'timestamp': u'2015-12-13T00:12:01Z',\n",
      "                                   u'tlp': u'green'},\n",
      "                      u'_type': u'observables'},\n",
      "                     {u'_id': u'5821165715bac4273f7996e924e0dd25d0081c3b616b4b81aa8477b8d9002129',\n",
      "                      u'_index': u'cif.observables-2015.12.13',\n",
      "                      u'_score': 1.0,\n",
      "                      u'_source': {u'@timestamp': u'2015-12-13T00:12:01Z',\n",
      "                                   u'adata': None,\n",
      "                                   u'altid': u'http://www.alexa.com/siteinfo/blogspot.in',\n",
      "                                   u'altid_tlp': u'white',\n",
      "                                   u'application': u'dns',\n",
      "                                   u'cc': None,\n",
      "                                   u'confidence': 20.023,\n",
      "                                   u'description': None,\n",
      "                                   u'firsttime': None,\n",
      "                                   u'group': [u'everyone'],\n",
      "                                   u'id': u'5821165715bac4273f7996e924e0dd25d0081c3b616b4b81aa8477b8d9002129',\n",
      "                                   u'lang': None,\n",
      "                                   u'lasttime': u'2015-12-13T00:12:01Z',\n",
      "                                   u'observable': u'ns2.google.com',\n",
      "                                   u'otype': u'fqdn',\n",
      "                                   u'portlist': None,\n",
      "                                   u'protocol': 6,\n",
      "                                   u'provider': u'alexa.com',\n",
      "                                   u'rdata': u'blogspot.in',\n",
      "                                   u'related': u'6057331431c11ce75655984112be2a9487984c27b32774c4ab9dd2b08ca74523',\n",
      "                                   u'reporttime': u'2015-12-13T00:12:01Z',\n",
      "                                   u'rtype': u'NS',\n",
      "                                   u'tags': [u'rdata', u'whitelist'],\n",
      "                                   u'timestamp': u'2015-12-13T00:12:01Z',\n",
      "                                   u'tlp': u'green'},\n",
      "                      u'_type': u'observables'},\n",
      "                     {u'_id': u'68837edc02f874c85350b476aeb00c7c7141984430ff9c9dbf6bc9610a00d19f',\n",
      "                      u'_index': u'cif.observables-2015.12.13',\n",
      "                      u'_score': 1.0,\n",
      "                      u'_source': {u'@timestamp': u'2015-12-13T00:12:01Z',\n",
      "                                   u'adata': None,\n",
      "                                   u'altid': u'http://www.alexa.com/siteinfo/blogspot.in',\n",
      "                                   u'altid_tlp': u'white',\n",
      "                                   u'application': u'dns',\n",
      "                                   u'cc': None,\n",
      "                                   u'confidence': 20.023,\n",
      "                                   u'description': None,\n",
      "                                   u'firsttime': None,\n",
      "                                   u'group': [u'everyone'],\n",
      "                                   u'id': u'68837edc02f874c85350b476aeb00c7c7141984430ff9c9dbf6bc9610a00d19f',\n",
      "                                   u'lang': None,\n",
      "                                   u'lasttime': u'2015-12-13T00:12:01Z',\n",
      "                                   u'observable': u'ns3.google.com',\n",
      "                                   u'otype': u'fqdn',\n",
      "                                   u'portlist': None,\n",
      "                                   u'protocol': 6,\n",
      "                                   u'provider': u'alexa.com',\n",
      "                                   u'rdata': u'blogspot.in',\n",
      "                                   u'related': u'6057331431c11ce75655984112be2a9487984c27b32774c4ab9dd2b08ca74523',\n",
      "                                   u'reporttime': u'2015-12-13T00:12:01Z',\n",
      "                                   u'rtype': u'NS',\n",
      "                                   u'tags': [u'rdata', u'whitelist'],\n",
      "                                   u'timestamp': u'2015-12-13T00:12:01Z',\n",
      "                                   u'tlp': u'green'},\n",
      "                      u'_type': u'observables'},\n",
      "                     {u'_id': u'70478acaae267707ebfdab9a328d30dbafceb2c87cb118358ce16fa5a3467e12',\n",
      "                      u'_index': u'cif.observables-2015.12.13',\n",
      "                      u'_score': 1.0,\n",
      "                      u'_source': {u'@timestamp': u'2015-12-13T00:12:01Z',\n",
      "                                   u'adata': None,\n",
      "                                   u'altid': u'http://www.alexa.com/siteinfo/alipay.com',\n",
      "                                   u'altid_tlp': u'white',\n",
      "                                   u'application': u'dns',\n",
      "                                   u'cc': None,\n",
      "                                   u'confidence': 20.023,\n",
      "                                   u'description': None,\n",
      "                                   u'firsttime': None,\n",
      "                                   u'group': [u'everyone'],\n",
      "                                   u'id': u'70478acaae267707ebfdab9a328d30dbafceb2c87cb118358ce16fa5a3467e12',\n",
      "                                   u'lang': None,\n",
      "                                   u'lasttime': u'2015-12-13T00:12:01Z',\n",
      "                                   u'observable': u'ns3.alipay.com',\n",
      "                                   u'otype': u'fqdn',\n",
      "                                   u'portlist': None,\n",
      "                                   u'protocol': 6,\n",
      "                                   u'provider': u'alexa.com',\n",
      "                                   u'rdata': u'alipay.com',\n",
      "                                   u'related': u'f885a6c01cecd7ed3b194bb6ca4617b33e9648e735229a74ca326c60e8b24c86',\n",
      "                                   u'reporttime': u'2015-12-13T00:12:01Z',\n",
      "                                   u'rtype': u'NS',\n",
      "                                   u'tags': [u'rdata', u'whitelist'],\n",
      "                                   u'timestamp': u'2015-12-13T00:12:01Z',\n",
      "                                   u'tlp': u'green'},\n",
      "                      u'_type': u'observables'},\n",
      "                     {u'_id': u'00d745f34e28d41f28a744702486b570e92424ee998ba4b5e216c660030e0336',\n",
      "                      u'_index': u'cif.observables-2015.12.13',\n",
      "                      u'_score': 1.0,\n",
      "                      u'_source': {u'@timestamp': u'2015-12-13T00:12:00Z',\n",
      "                                   u'adata': None,\n",
      "                                   u'altid': u'http://www.alexa.com/siteinfo/yandex.ru',\n",
      "                                   u'altid_tlp': u'white',\n",
      "                                   u'application': None,\n",
      "                                   u'asn': 13238,\n",
      "                                   u'asn_desc': u'YANDEX Yandex LLC,RU',\n",
      "                                   u'cc': u'RU',\n",
      "                                   u'citycode': None,\n",
      "                                   u'confidence': 52.105,\n",
      "                                   u'description': None,\n",
      "                                   u'firsttime': None,\n",
      "                                   u'geolocation': u'55.75, 37.616600000000005',\n",
      "                                   u'group': [u'everyone'],\n",
      "                                   u'id': u'00d745f34e28d41f28a744702486b570e92424ee998ba4b5e216c660030e0336',\n",
      "                                   u'lang': None,\n",
      "                                   u'lasttime': u'2015-12-13T00:12:00Z',\n",
      "                                   u'latitude': 55.75,\n",
      "                                   u'longitude': 37.616600000000005,\n",
      "                                   u'mask': None,\n",
      "                                   u'metrocode': None,\n",
      "                                   u'observable': u'5.255.255.55',\n",
      "                                   u'orientation': None,\n",
      "                                   u'otype': u'ipv4',\n",
      "                                   u'peers': [{u'asn': u'174',\n",
      "                                               u'asn_description': u'COGENT-174 - Cogent Communications,US',\n",
      "                                               u'cc': u'RU',\n",
      "                                               u'date': u'2012-09-14',\n",
      "                                               u'prefix': u'5.255.192.0/18',\n",
      "                                               u'rir': u'ripencc'}],\n",
      "                                   u'portlist': None,\n",
      "                                   u'prefix': u'5.255.192.0/18',\n",
      "                                   u'protocol': 6,\n",
      "                                   u'provider': u'alexa.com',\n",
      "                                   u'rdata': u'yandex.ru',\n",
      "                                   u'related': u'76565708bd6541f30e9be6be17feb744d2c69efa026cd9e9308d16a75edaf7b5',\n",
      "                                   u'reporttime': u'2015-12-13T00:12:00Z',\n",
      "                                   u'rir': u'ripencc',\n",
      "                                   u'rtype': u'A',\n",
      "                                   u'subdivision': None,\n",
      "                                   u'tags': [u'rdata', u'whitelist'],\n",
      "                                   u'timestamp': u'2015-12-13T00:12:00Z',\n",
      "                                   u'timezone': None,\n",
      "                                   u'tlp': u'green'},\n",
      "                      u'_type': u'observables'},\n",
      "                     {u'_id': u'533b0ee066b3d94c894888324aad0b351f6d6a846bcd5833a2cc69ccee1d2843',\n",
      "                      u'_index': u'cif.observables-2015.12.13',\n",
      "                      u'_score': 1.0,\n",
      "                      u'_source': {u'@timestamp': u'2015-12-13T00:12:00Z',\n",
      "                                   u'adata': None,\n",
      "                                   u'altid': u'http://www.alexa.com/siteinfo/yandex.ru',\n",
      "                                   u'altid_tlp': u'white',\n",
      "                                   u'application': None,\n",
      "                                   u'asn': 13238,\n",
      "                                   u'asn_desc': u'YANDEX Yandex LLC,RU',\n",
      "                                   u'cc': u'RU',\n",
      "                                   u'citycode': None,\n",
      "                                   u'confidence': 52.105,\n",
      "                                   u'description': None,\n",
      "                                   u'firsttime': None,\n",
      "                                   u'geolocation': u'55.75, 37.616600000000005',\n",
      "                                   u'group': [u'everyone'],\n",
      "                                   u'id': u'533b0ee066b3d94c894888324aad0b351f6d6a846bcd5833a2cc69ccee1d2843',\n",
      "                                   u'lang': None,\n",
      "                                   u'lasttime': u'2015-12-13T00:12:00Z',\n",
      "                                   u'latitude': 55.75,\n",
      "                                   u'longitude': 37.616600000000005,\n",
      "                                   u'mask': None,\n",
      "                                   u'metrocode': None,\n",
      "                                   u'observable': u'77.88.55.55',\n",
      "                                   u'orientation': None,\n",
      "                                   u'otype': u'ipv4',\n",
      "                                   u'peers': [{u'asn': u'174',\n",
      "                                               u'asn_description': u'COGENT-174 - Cogent Communications,US',\n",
      "                                               u'cc': u'RU',\n",
      "                                               u'date': u'2007-03-15',\n",
      "                                               u'prefix': u'77.88.55.0/24',\n",
      "                                               u'rir': u'ripencc'}],\n",
      "                                   u'portlist': None,\n",
      "                                   u'prefix': u'77.88.55.0/24',\n",
      "                                   u'protocol': 6,\n",
      "                                   u'provider': u'alexa.com',\n",
      "                                   u'rdata': u'yandex.ru',\n",
      "                                   u'related': u'76565708bd6541f30e9be6be17feb744d2c69efa026cd9e9308d16a75edaf7b5',\n",
      "                                   u'reporttime': u'2015-12-13T00:12:00Z',\n",
      "                                   u'rir': u'ripencc',\n",
      "                                   u'rtype': u'A',\n",
      "                                   u'subdivision': None,\n",
      "                                   u'tags': [u'rdata', u'whitelist'],\n",
      "                                   u'timestamp': u'2015-12-13T00:12:00Z',\n",
      "                                   u'timezone': None,\n",
      "                                   u'tlp': u'green'},\n",
      "                      u'_type': u'observables'},\n",
      "                     {u'_id': u'3f232ed9eec203692cc8f3a1d39b3f34322338f43dd6772f351b8335759cbd76',\n",
      "                      u'_index': u'cif.observables-2015.12.13',\n",
      "                      u'_score': 1.0,\n",
      "                      u'_source': {u'@timestamp': u'2015-12-13T00:12:01Z',\n",
      "                                   u'adata': None,\n",
      "                                   u'altid': u'http://www.alexa.com/siteinfo/bestbuy.com',\n",
      "                                   u'altid_tlp': u'white',\n",
      "                                   u'application': None,\n",
      "                                   u'asn': 701,\n",
      "                                   u'asn_desc': u'UUNET - MCI Communications Services, Inc. d/b/a Verizon Business,US',\n",
      "                                   u'cc': u'US',\n",
      "                                   u'citycode': None,\n",
      "                                   u'confidence': 31.474,\n",
      "                                   u'description': None,\n",
      "                                   u'firsttime': None,\n",
      "                                   u'geolocation': u'38.0, -97.0',\n",
      "                                   u'group': [u'everyone'],\n",
      "                                   u'id': u'3f232ed9eec203692cc8f3a1d39b3f34322338f43dd6772f351b8335759cbd76',\n",
      "                                   u'lang': None,\n",
      "                                   u'lasttime': u'2015-12-13T00:12:01Z',\n",
      "                                   u'latitude': 38.0,\n",
      "                                   u'longitude': -97.0,\n",
      "                                   u'mask': None,\n",
      "                                   u'metrocode': None,\n",
      "                                   u'observable': u'65.222.200.176',\n",
      "                                   u'orientation': None,\n",
      "                                   u'otype': u'ipv4',\n",
      "                                   u'peers': [{u'asn': u'174',\n",
      "                                               u'asn_description': u'COGENT-174 - Cogent Communications,US',\n",
      "                                               u'cc': u'US',\n",
      "                                               u'date': u'2000-10-27',\n",
      "                                               u'prefix': u'65.192.0.0/11',\n",
      "                                               u'rir': u'arin'}],\n",
      "                                   u'portlist': None,\n",
      "                                   u'prefix': u'65.192.0.0/11',\n",
      "                                   u'protocol': 6,\n",
      "                                   u'provider': u'alexa.com',\n",
      "                                   u'rdata': u'bestbuy.com',\n",
      "                                   u'related': u'09e8c8b851286163879d91d8c26f9a6a7ab99f0edc29920344ffe7556f533718',\n",
      "                                   u'reporttime': u'2015-12-13T00:12:01Z',\n",
      "                                   u'rir': u'arin',\n",
      "                                   u'rtype': u'A',\n",
      "                                   u'subdivision': None,\n",
      "                                   u'tags': [u'rdata', u'whitelist'],\n",
      "                                   u'timestamp': u'2015-12-13T00:12:01Z',\n",
      "                                   u'timezone': None,\n",
      "                                   u'tlp': u'green'},\n",
      "                      u'_type': u'observables'},\n",
      "                     {u'_id': u'8543de9ceefd91a99c864702f232cc58bad15503439180077a692c64790a0a09',\n",
      "                      u'_index': u'cif.observables-2015.12.13',\n",
      "                      u'_score': 1.0,\n",
      "                      u'_source': {u'@timestamp': u'2015-12-13T00:12:01Z',\n",
      "                                   u'adata': None,\n",
      "                                   u'altid': u'http://www.alexa.com/siteinfo/bestbuy.com',\n",
      "                                   u'altid_tlp': u'white',\n",
      "                                   u'application': None,\n",
      "                                   u'asn': 701,\n",
      "                                   u'asn_desc': u'UUNET - MCI Communications Services, Inc. d/b/a Verizon Business,US',\n",
      "                                   u'cc': u'US',\n",
      "                                   u'citycode': None,\n",
      "                                   u'confidence': 31.474,\n",
      "                                   u'description': None,\n",
      "                                   u'firsttime': None,\n",
      "                                   u'geolocation': u'38.0, -97.0',\n",
      "                                   u'group': [u'everyone'],\n",
      "                                   u'id': u'8543de9ceefd91a99c864702f232cc58bad15503439180077a692c64790a0a09',\n",
      "                                   u'lang': None,\n",
      "                                   u'lasttime': u'2015-12-13T00:12:01Z',\n",
      "                                   u'latitude': 38.0,\n",
      "                                   u'longitude': -97.0,\n",
      "                                   u'mask': None,\n",
      "                                   u'metrocode': None,\n",
      "                                   u'observable': u'65.222.200.185',\n",
      "                                   u'orientation': None,\n",
      "                                   u'otype': u'ipv4',\n",
      "                                   u'peers': [{u'asn': u'174',\n",
      "                                               u'asn_description': u'COGENT-174 - Cogent Communications,US',\n",
      "                                               u'cc': u'US',\n",
      "                                               u'date': u'2000-10-27',\n",
      "                                               u'prefix': u'65.192.0.0/11',\n",
      "                                               u'rir': u'arin'}],\n",
      "                                   u'portlist': None,\n",
      "                                   u'prefix': u'65.192.0.0/11',\n",
      "                                   u'protocol': 6,\n",
      "                                   u'provider': u'alexa.com',\n",
      "                                   u'rdata': u'bestbuy.com',\n",
      "                                   u'related': u'09e8c8b851286163879d91d8c26f9a6a7ab99f0edc29920344ffe7556f533718',\n",
      "                                   u'reporttime': u'2015-12-13T00:12:01Z',\n",
      "                                   u'rir': u'arin',\n",
      "                                   u'rtype': u'A',\n",
      "                                   u'subdivision': None,\n",
      "                                   u'tags': [u'rdata', u'whitelist'],\n",
      "                                   u'timestamp': u'2015-12-13T00:12:01Z',\n",
      "                                   u'timezone': None,\n",
      "                                   u'tlp': u'green'},\n",
      "                      u'_type': u'observables'},\n",
      "                     {u'_id': u'0535b1fa96acd478e953d179b607502f1b9b3ba891cab244ea2cec17929a1717',\n",
      "                      u'_index': u'cif.observables-2015.12.13',\n",
      "                      u'_score': 1.0,\n",
      "                      u'_source': {u'@timestamp': u'2015-12-13T00:12:01Z',\n",
      "                                   u'adata': None,\n",
      "                                   u'altid': u'http://www.alexa.com/siteinfo/imdb.com',\n",
      "                                   u'altid_tlp': u'white',\n",
      "                                   u'application': u'dns',\n",
      "                                   u'cc': None,\n",
      "                                   u'confidence': 20.023,\n",
      "                                   u'description': None,\n",
      "                                   u'firsttime': None,\n",
      "                                   u'group': [u'everyone'],\n",
      "                                   u'id': u'0535b1fa96acd478e953d179b607502f1b9b3ba891cab244ea2cec17929a1717',\n",
      "                                   u'lang': None,\n",
      "                                   u'lasttime': u'2015-12-13T00:12:01Z',\n",
      "                                   u'observable': u'pdns6.ultradns.co.uk',\n",
      "                                   u'otype': u'fqdn',\n",
      "                                   u'portlist': None,\n",
      "                                   u'protocol': 6,\n",
      "                                   u'provider': u'alexa.com',\n",
      "                                   u'rdata': u'imdb.com',\n",
      "                                   u'related': u'60fbc0d4246dcb3890eccb45a0ae356075d12d35f3e5eeba9a2c773b6410b7be',\n",
      "                                   u'reporttime': u'2015-12-13T00:12:01Z',\n",
      "                                   u'rtype': u'NS',\n",
      "                                   u'tags': [u'rdata', u'whitelist'],\n",
      "                                   u'timestamp': u'2015-12-13T00:12:01Z',\n",
      "                                   u'tlp': u'green'},\n",
      "                      u'_type': u'observables'},\n",
      "                     {u'_id': u'8610df4da6ac9729effc956766224aba6a02bce240f974b8c44e1ae7e5b7ecb9',\n",
      "                      u'_index': u'cif.observables-2015.12.13',\n",
      "                      u'_score': 1.0,\n",
      "                      u'_source': {u'@timestamp': u'2015-12-13T00:12:01Z',\n",
      "                                   u'adata': None,\n",
      "                                   u'altid': u'http://www.alexa.com/siteinfo/imdb.com',\n",
      "                                   u'altid_tlp': u'white',\n",
      "                                   u'application': u'dns',\n",
      "                                   u'cc': None,\n",
      "                                   u'confidence': 20.023,\n",
      "                                   u'description': None,\n",
      "                                   u'firsttime': None,\n",
      "                                   u'group': [u'everyone'],\n",
      "                                   u'id': u'8610df4da6ac9729effc956766224aba6a02bce240f974b8c44e1ae7e5b7ecb9',\n",
      "                                   u'lang': None,\n",
      "                                   u'lasttime': u'2015-12-13T00:12:01Z',\n",
      "                                   u'observable': u'ns2.p31.dynect.net',\n",
      "                                   u'otype': u'fqdn',\n",
      "                                   u'portlist': None,\n",
      "                                   u'protocol': 6,\n",
      "                                   u'provider': u'alexa.com',\n",
      "                                   u'rdata': u'imdb.com',\n",
      "                                   u'related': u'60fbc0d4246dcb3890eccb45a0ae356075d12d35f3e5eeba9a2c773b6410b7be',\n",
      "                                   u'reporttime': u'2015-12-13T00:12:01Z',\n",
      "                                   u'rtype': u'NS',\n",
      "                                   u'tags': [u'rdata', u'whitelist'],\n",
      "                                   u'timestamp': u'2015-12-13T00:12:01Z',\n",
      "                                   u'tlp': u'green'},\n",
      "                      u'_type': u'observables'}],\n",
      "           u'max_score': 1.0,\n",
      "           u'total': 336664},\n",
      " u'timed_out': False,\n",
      " u'took': 4}\n"
     ]
    }
   ],
   "source": [
    "results = es.search(index_name, type_name, json.dumps(q))\n",
    "pprint(results)"
   ]
  }
 ],
 "metadata": {
  "kernelspec": {
   "display_name": "Python 2",
   "language": "python",
   "name": "python2"
  },
  "language_info": {
   "codemirror_mode": {
    "name": "ipython",
    "version": 2
   },
   "file_extension": ".py",
   "mimetype": "text/x-python",
   "name": "python",
   "nbconvert_exporter": "python",
   "pygments_lexer": "ipython2",
   "version": "2.7.11"
  }
 },
 "nbformat": 4,
 "nbformat_minor": 0
}
